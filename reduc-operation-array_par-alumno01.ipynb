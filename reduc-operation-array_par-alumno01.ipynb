{
 "cells": [
  {
   "cell_type": "markdown",
   "id": "5eb1708f",
   "metadata": {},
   "source": [
    "## Reduction operation: the sum of the numbers in the range [0, value)"
   ]
  },
  {
   "cell_type": "code",
   "execution_count": null,
   "id": "d344210b",
   "metadata": {},
   "outputs": [],
   "source": [
    "import sys\n",
    "value = int(sys.argv[1])\n",
    "print(\"Valor usado:\", value)"
   ]
  },
  {
   "cell_type": "code",
   "execution_count": 5,
   "id": "bb29f139-bf00-4727-b052-1e0fbb675bf2",
   "metadata": {},
   "outputs": [],
   "source": [
    "import numpy as np"
   ]
  },
  {
   "cell_type": "code",
   "execution_count": 8,
   "id": "6c28f3f3",
   "metadata": {},
   "outputs": [
    {
     "name": "stdout",
     "output_type": "stream",
     "text": [
      "Time taken by reduction operation using a function: 499 ms ± 3.44 ms per loop (mean ± std. dev. of 2 runs, 1 loop each)\n",
      "And the result of the sum of numbers in the range [0, value) is: 249844.08241193838\n",
      "\n",
      "Time taken by reduction operation using numpy.sum(): 806 µs ± 3.74 µs per loop (mean ± std. dev. of 2 runs, 1,000 loops each)\n",
      "Now, the result using numpy.sum(): 249844.0824119457 \n",
      " \n",
      "Time taken by reduction operation using numpy.ndarray.sum(): 751 µs ± 65.2 ns per loop (mean ± std. dev. of 2 runs, 1,000 loops each)\n",
      "Now, the result using numpy.ndarray.sum(): 249844.0824119457\n"
     ]
    }
   ],
   "source": [
    "def reduc_operation(A):\n",
    "    \"\"\"Compute the sum of the elements of Array A in the range [0, value).\"\"\"\n",
    "    s = 0\n",
    "    for i in range(A.size):\n",
    "        s += A[i]\n",
    "    return s\n",
    "\n",
    "# Secuencial\n",
    "#value = 5*10**4\n",
    "X = np.random.rand(value)\n",
    "\n",
    "# Para imprimir los pimeros valores del array\n",
    "# print(X[0:12])\n",
    "\n",
    "\n",
    "# Utilizando las operaciones mágicas de ipython\n",
    "tiempo = %timeit -r 2 -o -q reduc_operation(X)\n",
    "print(\"\\nTime taken by reduction operation using a function:\", tiempo)\n",
    "print(f\"And the result of the sum of numbers in the range [0, value) is: {reduc_operation(X)}\\n\")\n",
    "\n",
    "\n",
    "# Utilizando numpy.sum()\n",
    "tiempo = %timeit -r 2 -o -q np.sum(X)\n",
    "print(\"\\nTime taken by reduction operation using numpy.sum():\", tiempo)\n",
    "print(\"Now, the result using numpy.sum():\", np.sum(X),\"\\n \")\n",
    "\n",
    "\n",
    "# Utilizando numpy.ndarray.sum()\n",
    "tiempo= %timeit -r 2 -o -q X.sum()\n",
    "print(\"\\nTime taken by reduction operation using numpy.ndarray.sum():\", tiempo)\n",
    "print(\"Now, the result using numpy.ndarray.sum():\", X.sum())\n"
   ]
  },
  {
   "cell_type": "markdown",
   "id": "d5e40589",
   "metadata": {},
   "source": [
    "### Apartado A)\n",
    "**Usando la librería multiprocessing**"
   ]
  },
  {
   "cell_type": "code",
   "execution_count": 3,
   "id": "94c8c581",
   "metadata": {},
   "outputs": [],
   "source": [
    "from multiprocessing import Pool\n",
    "import time"
   ]
  },
  {
   "cell_type": "code",
   "execution_count": 15,
   "id": "f14efd49",
   "metadata": {},
   "outputs": [],
   "source": [
    "# value = 5*10**7\n",
    "# X = np.random.rand(value)"
   ]
  },
  {
   "cell_type": "code",
   "execution_count": 16,
   "id": "45428aec-0b31-48a5-b2b4-28842ae2b69b",
   "metadata": {},
   "outputs": [],
   "source": [
    "#value = 5*10**5\n",
    "#X = np.random.rand(value)"
   ]
  },
  {
   "cell_type": "code",
   "execution_count": 21,
   "id": "4844ad94-5478-402f-af16-14e7e84650b5",
   "metadata": {},
   "outputs": [
    {
     "name": "stdout",
     "output_type": "stream",
     "text": [
      "\u001b[1mApartado A\u001b[0m Usando la librería multiprocessing\n",
      "\n",
      "Resultados para la operación de reducción con 1 procesos:\n",
      "Tiempo con %time: 545 ms ± 2.23 ms per loop (mean ± std. dev. of 2 runs, 1 loop each)\n",
      "Tiempo con time.time(): 0.5584 segundos\n",
      "Resultado: 249844.08241193838\n",
      "\n",
      "Resultados para la operación de reducción con 2 procesos:\n",
      "Tiempo con %time: 332 ms ± 1.22 ms per loop (mean ± std. dev. of 2 runs, 1 loop each)\n",
      "Tiempo con time.time(): 0.3347 segundos\n",
      "Resultado: 249844.0824119404\n",
      "\n",
      "Resultados para la operación de reducción con 4 procesos:\n",
      "Tiempo con %time: 251 ms ± 6.08 ms per loop (mean ± std. dev. of 2 runs, 1 loop each)\n",
      "Tiempo con time.time(): 0.2501 segundos\n",
      "Resultado: 249844.08241194714\n"
     ]
    }
   ],
   "source": [
    "print(\"\\033[1m\" + \"\\nApartado A\" + \"\\033[0m\", \"Usando la librería multiprocessing\")\n",
    "\n",
    "#Megabucle\n",
    "for i in [1, 2, 4]:\n",
    "    #División del array en subarrays más pequeños\n",
    "    if i == 1:\n",
    "        Y = [X[0:value]] \n",
    "    elif i == 2:\n",
    "        Y = [X[0:int(value / 2)], X[int(value / 2):value]]  \n",
    "    elif i == 4:\n",
    "        Y = [X[0:int(value / 4)], X[int(value / 4):int(value / 2)], X[int(value / 2):int(3 * value / 4)], X[int(3 * value / 4):value]] \n",
    "\n",
    "    #Función para aplicar el multiprocessing\n",
    "    def suma_con_multiprocessing():\n",
    "        with Pool(processes=i) as pool:\n",
    "            resultados = pool.map(reduc_operation, Y)\n",
    "        return sum(resultados)\n",
    "\n",
    "    #%timeit\n",
    "    tiempo = %timeit -r 2 -o -q suma_con_multiprocessing()\n",
    "\n",
    "    #time.time()\n",
    "    start_time = time.time()\n",
    "    suma_con_multiprocessing()\n",
    "    end_time = time.time() \n",
    "    \n",
    "    print(f\"\\nResultados para la operación de reducción con {i} procesos:\")\n",
    "    print(f\"Tiempo con %time: {tiempo}\")\n",
    "    print(f\"Tiempo con time.time(): {end_time - start_time:.4f} segundos\")\n",
    "    print(f\"Resultado:\", suma_con_multiprocessing())\n"
   ]
  },
  {
   "cell_type": "markdown",
   "id": "eb3347a3",
   "metadata": {},
   "source": [
    "### Apartado B)\n",
    "**Usando la librería Numba**"
   ]
  },
  {
   "cell_type": "code",
   "execution_count": 23,
   "id": "0b1dddca",
   "metadata": {},
   "outputs": [],
   "source": [
    "from numba import njit, prange"
   ]
  },
  {
   "cell_type": "code",
   "execution_count": 31,
   "id": "fe1cad9d",
   "metadata": {},
   "outputs": [
    {
     "name": "stdout",
     "output_type": "stream",
     "text": [
      "\u001b[1mApartado B\u001b[0m Usando la librería Numba\n",
      "\n",
      "Tiempo para la versión original:\n",
      "473 ms ± 6.06 ms per loop (mean ± std. dev. of 2 runs, 1 loop each)\n",
      "Resultado: 249844.08241193838\n",
      "\n",
      "Tiempo para la versión original con @njit:\n",
      "2.04 ms ± 5.48 µs per loop (mean ± std. dev. of 2 runs, 1 loop each)\n",
      "Resultado: 249844.08241193838\n",
      "\n",
      "Tiempo para la versión con @njit(parallel=True):\n",
      "2.41 ms ± 81.7 µs per loop (mean ± std. dev. of 2 runs, 100 loops each)\n",
      "Resultado: 249844.08241194556\n"
     ]
    }
   ],
   "source": [
    "print(\"\\033[1m\" + \"\\nApartado B\" + \"\\033[0m\", \"Usando la librería Numba\")\n",
    "\n",
    "#Versión original\n",
    "def reduc_operation(A):\n",
    "    s = 0\n",
    "    for i in range(A.size):\n",
    "        s += A[i]\n",
    "    return s\n",
    "\n",
    "tiempo = %timeit -r 2 -o -q reduc_operation(X)\n",
    "print(\"\\nTiempo para la versión original:\", tiempo, sep=\"\\n\")\n",
    "print(\"Resultado:\", reduc_operation(X))\n",
    "\n",
    "#Versión optimizada con @njit\n",
    "@njit\n",
    "def reduc_operation_njit(A):\n",
    "    s = 0\n",
    "    for i in range(A.size):\n",
    "        s += A[i]\n",
    "    return s\n",
    "\n",
    "tiempo = %timeit -r 2 -o -q reduc_operation_njit(X)\n",
    "print(\"\\nTiempo para la versión original con @njit:\", tiempo, sep=\"\\n\")\n",
    "print(\"Resultado:\", reduc_operation_njit(X))\n",
    "\n",
    "#Versión paralelizada con @njit(parallel=True)\n",
    "@njit(parallel=True)\n",
    "def reduc_operation__njit_parallel(A):\n",
    "    s = 0.0\n",
    "    for i in prange(A.size):\n",
    "        s += A[i]\n",
    "    return s\n",
    "\n",
    "\n",
    "# value = 5 * 10**6 \n",
    "# X = np.random.rand(value) \n",
    "\n",
    "tiempo = %timeit -r 2 -o -q reduc_operation__njit_parallel(X)\n",
    "print(\"\\nTiempo para la versión con @njit(parallel=True):\", tiempo, sep=\"\\n\")\n",
    "print(\"Resultado:\", reduc_operation__njit_parallel(X))"
   ]
  },
  {
   "cell_type": "markdown",
   "id": "72d95aee-ae04-4089-a5e3-d76a87459930",
   "metadata": {},
   "source": [
    "### Apartado C)\n",
    "**Comentando los resultados.**\n",
    "- El uso de los paquetes multiprocessing y Numba acelera de una forma muy notoria el tiempo que le toma a la función hacer la suma sobre el array.\n",
    "- El aumento de tiempo que se produce al usar 4 procesos con multiprocessing o al usar prange con Numba, es debido al tamaño del array. Cuanto más grande sea el array, la parelización será más productiva. Al probar las funciones con un array más grande (5*10^7) sí se produce una mejora de tiempo.\n",
    "- Entre ambas librerías, parece ser Numba la que consigue un mayor rendimiento. "
   ]
  },
  {
   "cell_type": "code",
   "execution_count": null,
   "id": "a1cf062c-d089-4408-9548-c14addf58247",
   "metadata": {},
   "outputs": [],
   "source": []
  }
 ],
 "metadata": {
  "kernelspec": {
   "display_name": "Python 3 (ipykernel)",
   "language": "python",
   "name": "python3"
  },
  "language_info": {
   "codemirror_mode": {
    "name": "ipython",
    "version": 3
   },
   "file_extension": ".py",
   "mimetype": "text/x-python",
   "name": "python",
   "nbconvert_exporter": "python",
   "pygments_lexer": "ipython3",
   "version": "3.10.9"
  }
 },
 "nbformat": 4,
 "nbformat_minor": 5
}
