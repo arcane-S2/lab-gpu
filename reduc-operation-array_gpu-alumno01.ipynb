{
 "cells": [
  {
   "cell_type": "markdown",
   "id": "f942d288-be01-42cd-9b84-83529c6769be",
   "metadata": {},
   "source": [
    "## Reduction operation: the sum of the numbers in the range [0, value)"
   ]
  },
  {
   "cell_type": "code",
   "execution_count": 36,
   "id": "e7d0905f-e513-4d8c-8cc0-3e2573917773",
   "metadata": {},
   "outputs": [
    {
     "ename": "ValueError",
     "evalue": "invalid literal for int() with base 10: '-f'",
     "output_type": "error",
     "traceback": [
      "\u001b[0;31m---------------------------------------------------------------------------\u001b[0m",
      "\u001b[0;31mValueError\u001b[0m                                Traceback (most recent call last)",
      "Cell \u001b[0;32mIn[36], line 2\u001b[0m\n\u001b[1;32m      1\u001b[0m \u001b[38;5;28;01mimport\u001b[39;00m \u001b[38;5;21;01msys\u001b[39;00m\n\u001b[0;32m----> 2\u001b[0m value \u001b[38;5;241m=\u001b[39m \u001b[38;5;28;43mint\u001b[39;49m\u001b[43m(\u001b[49m\u001b[43msys\u001b[49m\u001b[38;5;241;43m.\u001b[39;49m\u001b[43margv\u001b[49m\u001b[43m[\u001b[49m\u001b[38;5;241;43m1\u001b[39;49m\u001b[43m]\u001b[49m\u001b[43m)\u001b[49m\n\u001b[1;32m      3\u001b[0m \u001b[38;5;28mprint\u001b[39m(\u001b[38;5;124m\"\u001b[39m\u001b[38;5;124mValor usado:\u001b[39m\u001b[38;5;124m\"\u001b[39m, value)\n",
      "\u001b[0;31mValueError\u001b[0m: invalid literal for int() with base 10: '-f'"
     ]
    }
   ],
   "source": [
    "import sys\n",
    "value = int(sys.argv[1])\n",
    "print(\"Valor usado:\", value)"
   ]
  },
  {
   "cell_type": "code",
   "execution_count": 31,
   "id": "496946fa-2a28-4c1d-8a6a-2ee0b8fd8ced",
   "metadata": {},
   "outputs": [
    {
     "name": "stdout",
     "output_type": "stream",
     "text": [
      "Time taken by reduction operation using a function: 49.4 ms ± 396 µs per loop (mean ± std. dev. of 2 runs, 10 loops each)\n",
      "And the result of the sum of numbers in the range [0, value) is: 250161.6233847648\n",
      "\n",
      "Time taken by reduction operation using numpy.sum(): 102 µs ± 345 ns per loop (mean ± std. dev. of 2 runs, 10,000 loops each)\n",
      "Now, the result using numpy.sum(): 250161.62338476224 \n",
      " \n",
      "Time taken by reduction operation using numpy.ndarray.sum(): 100 µs ± 61.5 ns per loop (mean ± std. dev. of 2 runs, 10,000 loops each)\n",
      "Now, the result using numpy.ndarray.sum(): 250161.62338476224\n"
     ]
    }
   ],
   "source": [
    "import numpy as np\n",
    "\n",
    "def reduc_operation(A):\n",
    "    \"\"\"Compute the sum of the elements of Array A in the range [0, value).\"\"\"\n",
    "    s = 0\n",
    "    for i in range(A.size):\n",
    "        s += A[i]\n",
    "    return s\n",
    "\n",
    "# Secuencial\n",
    "\n",
    "#value = 5*10**5\n",
    "X = np.random.rand(value)\n",
    "\n",
    "# Para imprimir los pimeros valores del array\n",
    "\n",
    "# print(X[0:12])\n",
    "\n",
    "# Utilizando las operaciones mágicas de ipython\n",
    "\n",
    "tiempo = %timeit -r 2 -o -q reduc_operation(X)\n",
    "print(\"Time taken by reduction operation using a function:\", tiempo)\n",
    "print(f\"And the result of the sum of numbers in the range [0, value) is: {reduc_operation(X)}\\n\")\n",
    "\n",
    "\n",
    "# Utilizando numpy.sum()\n",
    "\n",
    "tiempo = %timeit -r 2 -o -q np.sum(X)\n",
    "print(\"Time taken by reduction operation using numpy.sum():\", tiempo)\n",
    "print(\"Now, the result using numpy.sum():\", np.sum(X),\"\\n \")\n",
    "\n",
    "\n",
    "# Utilizando numpy.ndarray.sum()\n",
    "\n",
    "tiempo= %timeit -r 2 -o -q X.sum()\n",
    "print(\"Time taken by reduction operation using numpy.ndarray.sum():\", tiempo)\n",
    "print(\"Now, the result using numpy.ndarray.sum():\", X.sum())\n",
    "\n",
    "\n"
   ]
  },
  {
   "cell_type": "markdown",
   "id": "dbc8db79-125d-4fdd-8b14-13ebb6cb980c",
   "metadata": {},
   "source": [
    "### Apartado A)\n",
    "**Usando la librería Cupy**"
   ]
  },
  {
   "cell_type": "code",
   "execution_count": 32,
   "id": "49fc6bbd-869d-442c-aa66-5cd32ce72346",
   "metadata": {},
   "outputs": [],
   "source": [
    "import cupy as cp"
   ]
  },
  {
   "cell_type": "code",
   "execution_count": 33,
   "id": "6202694d-815f-408b-bf56-34e2cd12bb5a",
   "metadata": {},
   "outputs": [],
   "source": [
    "# value = 5*10**5\n",
    "X = cp.random.rand(value)"
   ]
  },
  {
   "cell_type": "code",
   "execution_count": 35,
   "id": "20d3a1a2-a46e-4528-bba7-9ff53928b087",
   "metadata": {},
   "outputs": [
    {
     "name": "stdout",
     "output_type": "stream",
     "text": [
      "\n",
      "Time taken by reduction operation using a function with CUPY: 5.21 s ± 18.4 ms per loop (mean ± std. dev. of 2 runs, 1 loop each)\n",
      "And the result of the sum of numbers in the range [0, value) is: 250161.29074780116\n",
      "\n",
      "\n",
      "Time taken by reduction operation using cp.sum(): 20.2 µs ± 0.524 ns per loop (mean ± std. dev. of 2 runs, 100,000 loops each)\n",
      "Now, the result using numpy.sum(): 250161.29074780678 \n",
      " \n"
     ]
    }
   ],
   "source": [
    "def reduc_operation(A):\n",
    "    \"\"\"Compute the sum of the elements of Array A in the range [0, value).\"\"\"\n",
    "    s = 0\n",
    "    for i in range(A.size):\n",
    "        s += A[i]\n",
    "    return s\n",
    "\n",
    "tiempo = %timeit -r 2 -o -q reduc_operation(X)\n",
    "print(\"\\nTime taken by reduction operation using a function with CUPY:\", tiempo)\n",
    "print(f\"And the result of the sum of numbers in the range [0, value) is: {reduc_operation(X)}\\n\")\n",
    "\n",
    "# Utilizando cupy.sum()\n",
    "\n",
    "tiempo = %timeit -r 2 -o -q cp.sum(X)\n",
    "print(\"\\nTime taken by reduction operation using cp.sum():\", tiempo)\n",
    "print(\"Now, the result using numpy.sum():\", cp.sum(X),\"\\n \")"
   ]
  },
  {
   "cell_type": "markdown",
   "id": "d7fb0282-f056-43eb-bd94-e206cebeb06d",
   "metadata": {},
   "source": [
    "### Apartado C)\n",
    "**Comentando los resultados.**\n",
    "- Al implementar Cupy sobre el array, este ahora está montado sobre la memoria de la GPU, y como la GPU puede paralelizar procesos, observamos una disminución significativa de tiempo al efectuar los cálculos. Cuanto más grande sea el tamaño del array, más efectiva será esta paralelización, como vimos con Numpy. "
   ]
  },
  {
   "cell_type": "code",
   "execution_count": 28,
   "id": "632661d5-32b9-4ab6-bb10-9d870edd5f26",
   "metadata": {},
   "outputs": [
    {
     "name": "stdout",
     "output_type": "stream",
     "text": [
      "Name: cupy\n",
      "Version: 12.3.0\n",
      "Summary: CuPy: NumPy & SciPy for GPU\n",
      "Home-page: https://cupy.dev/\n",
      "Author: Seiya Tokui\n",
      "Author-email: tokui@preferred.jp\n",
      "License: MIT License\n",
      "Location: /usr/local/lib64/python3.8/site-packages\n",
      "Requires: numpy, fastrlock\n",
      "Required-by: \n",
      "Note: you may need to restart the kernel to use updated packages.\n"
     ]
    }
   ],
   "source": [
    "#pip show cupy"
   ]
  }
 ],
 "metadata": {
  "kernelspec": {
   "display_name": "Python 3 (ipykernel)",
   "language": "python",
   "name": "python3"
  },
  "language_info": {
   "codemirror_mode": {
    "name": "ipython",
    "version": 3
   },
   "file_extension": ".py",
   "mimetype": "text/x-python",
   "name": "python",
   "nbconvert_exporter": "python",
   "pygments_lexer": "ipython3",
   "version": "3.8.17"
  }
 },
 "nbformat": 4,
 "nbformat_minor": 5
}
