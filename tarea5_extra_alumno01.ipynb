{
 "cells": [
  {
   "cell_type": "markdown",
   "id": "560ab26b-4ca8-4f5a-9a0c-8e672def06da",
   "metadata": {},
   "source": [
    "## Usando starmap:"
   ]
  },
  {
   "cell_type": "code",
   "execution_count": 21,
   "id": "1104d0b5-5c78-47b3-9e94-e318b241e833",
   "metadata": {},
   "outputs": [
    {
     "name": "stdout",
     "output_type": "stream",
     "text": [
      "5.67 s ± 6.58 ms per loop (mean ± std. dev. of 2 runs, 1 loop each)\n",
      "\n",
      "Tiempo para 1 procesos:\n",
      "5.67 s ± 6.58 ms per loop (mean ± std. dev. of 2 runs, 1 loop each)\n",
      "Resultado de la suma con 1 procesos: 25000725.649850477\n",
      "3.36 s ± 3.1 ms per loop (mean ± std. dev. of 2 runs, 1 loop each)\n",
      "\n",
      "Tiempo para 2 procesos:\n",
      "3.36 s ± 3.1 ms per loop (mean ± std. dev. of 2 runs, 1 loop each)\n",
      "Resultado de la suma con 2 procesos: 25000725.64985007\n",
      "3.02 s ± 7.89 ms per loop (mean ± std. dev. of 2 runs, 1 loop each)\n",
      "\n",
      "Tiempo para 4 procesos:\n",
      "3.02 s ± 7.89 ms per loop (mean ± std. dev. of 2 runs, 1 loop each)\n",
      "Resultado de la suma con 4 procesos: 25000725.649849202\n"
     ]
    }
   ],
   "source": [
    "import numpy as np\n",
    "from multiprocessing import Pool\n",
    "\n",
    "# Tamaño del array\n",
    "value = 5 * 10**7\n",
    "X = np.random.rand(value)\n",
    "\n",
    "#Nueva función de reducción con dos argumentos más\n",
    "def sum_multiprocessing(A, ini, fin):\n",
    "    s = 0\n",
    "    for i in range(ini, fin):\n",
    "        s += A[i]\n",
    "    return s\n",
    "\n",
    "def dividir_array(array, num_procesos):\n",
    "    size = len(array)\n",
    "    chunk_size = size // num_procesos\n",
    "    ranges = []\n",
    "\n",
    "    if num_procesos == 1:\n",
    "        ranges = [(array, 0, size)]\n",
    "    elif num_procesos == 2:\n",
    "        ranges = [(array, 0, size // 2), (array, size//2, size)]\n",
    "    elif num_procesos == 4:\n",
    "        ranges = [(array, 0, size // 4), \n",
    "                  (array, size //4, size // 2), \n",
    "                  (array, size // 2, 3 * size//4), \n",
    "                  (array, 3*size // 4, size)]\n",
    "\n",
    "    #Aplicación de starmap\n",
    "    with Pool(processes=num_procesos) as pool:\n",
    "        partial_sums = pool.starmap(sum_multiprocessing, ranges)\n",
    "\n",
    "    #Suma total recoge las sumas parciales\n",
    "    total_sum = sum(partial_sums)\n",
    "    return total_sum\n",
    "\n",
    "#Aplicar la función para 1, 2 y 4 procesos\n",
    "for processes in [1, 2, 4]:\n",
    "    tiempo = %timeit -r 2 -o dividir_array(X, processes)\n",
    "    result = dividir_array(X, processes)\n",
    "    print(f\"\\nTiempo para {processes} procesos:\", tiempo, sep=\"\\n\")\n",
    "    print(f\"Resultado de la suma con {processes} procesos: {result}\")\n"
   ]
  },
  {
   "cell_type": "markdown",
   "id": "9ccdb42e-0c80-48a5-9169-0be59455b964",
   "metadata": {},
   "source": [
    "## De GPU a CPU:"
   ]
  },
  {
   "cell_type": "code",
   "execution_count": 36,
   "id": "eb973319-89aa-428c-912c-5fa3ee4d2849",
   "metadata": {},
   "outputs": [],
   "source": [
    "import numpy as np\n",
    "import cupy as cp\n",
    "import time\n",
    "\n",
    "#Crear el array en la CPU\n",
    "value = 5 * 10**5\n",
    "X_cpu = np.random.rand(value)"
   ]
  },
  {
   "cell_type": "code",
   "execution_count": 50,
   "id": "8a96b463-e56b-45c9-9388-288c75eb958a",
   "metadata": {},
   "outputs": [
    {
     "name": "stdout",
     "output_type": "stream",
     "text": [
      "Tiempo transfiriendo el array desde la CPU a la GPU: 0.0283945 segundos\n",
      "Tiempo en realizar la operación desde la GPU: 0.0003138 segundos\n",
      "Tiempo transfiriendo el resultado desde la GPU a la CPU: 0.0000751 segundos\n",
      "Tiempo total: 0.0287833 segundos\n"
     ]
    }
   ],
   "source": [
    "start = time.time()\n",
    "X_gpu = cp.asarray(X_cpu) #Transferir el array a la GPU \n",
    "end = time.time()\n",
    "print(f\"Tiempo transfiriendo el array desde la CPU a la GPU: {end - start:.7f} segundos\")\n",
    "cpu_gpu = end - start\n",
    "\n",
    "\n",
    "start = time.time()\n",
    "suma_gpu = cp.sum(X_gpu) #Realizar la operación en la GPU\n",
    "end = time.time()\n",
    "print(f\"Tiempo en realizar la operación desde la GPU: {end - start:.7f} segundos\")\n",
    "gpu_sum = end - start\n",
    "\n",
    "start = time.time()\n",
    "suma_cpu = suma_gpu.get() #Transferir el resultado de vuelta a la CPU\n",
    "end = time.time()\n",
    "gpu_cpu = end - start\n",
    "print(f\"Tiempo transfiriendo el resultado desde la GPU a la CPU: {end - start:.7f} segundos\")\n",
    "\n",
    "print(f\"Tiempo total: {cpu_gpu + gpu_sum + gpu_cpu:.7f} segundos\")\n"
   ]
  },
  {
   "cell_type": "markdown",
   "id": "a8cbe4ee-71e8-4972-839a-6d374c0e68d0",
   "metadata": {},
   "source": [
    "## Usando el decorador @reduce de Numba"
   ]
  },
  {
   "cell_type": "code",
   "execution_count": 61,
   "id": "3c0dd494-2615-41c4-ba5d-0e731f801982",
   "metadata": {},
   "outputs": [],
   "source": [
    "# from numba import reduce\n",
    "\n",
    "# @reduce\n",
    "# def add_reduce(a, b):\n",
    "#     return a + b"
   ]
  },
  {
   "cell_type": "markdown",
   "id": "c4820915-3087-4871-aab2-2655ade3219e",
   "metadata": {},
   "source": [
    "El tiempo que le toma a la operación sum_multiprocessing en realizarse sobre los arrays va disminuyendo conforme más procesos se involucren, como era de esperar. También se ha podido comprobar el tiempo real que le toma a la GPU hacer las operaciones cuando recibe los datos desde la CPU. "
   ]
  }
 ],
 "metadata": {
  "kernelspec": {
   "display_name": "Python 3 (ipykernel)",
   "language": "python",
   "name": "python3"
  },
  "language_info": {
   "codemirror_mode": {
    "name": "ipython",
    "version": 3
   },
   "file_extension": ".py",
   "mimetype": "text/x-python",
   "name": "python",
   "nbconvert_exporter": "python",
   "pygments_lexer": "ipython3",
   "version": "3.8.17"
  }
 },
 "nbformat": 4,
 "nbformat_minor": 5
}
